{
 "cells": [
  {
   "cell_type": "code",
   "execution_count": 1,
   "metadata": {},
   "outputs": [
    {
     "name": "stdout",
     "output_type": "stream",
     "text": [
      "showing info https://raw.githubusercontent.com/nltk/nltk_data/gh-pages/index.xml\n"
     ]
    },
    {
     "data": {
      "text/plain": [
       "True"
      ]
     },
     "execution_count": 1,
     "metadata": {},
     "output_type": "execute_result"
    }
   ],
   "source": [
    "import numpy as np\n",
    "import pandas as pd\n",
    "import collections\n",
    "import string\n",
    "import nltk\n",
    "from nltk.tokenize import word_tokenize, sent_tokenize\n",
    "from nltk.corpus import stopwords\n",
    "import re\n",
    "import math\n",
    "import matplotlib.pyplot as plt\n",
    "from scipy.special import zeta\n",
    "from wordcloud import WordCloud\n",
    "nltk.download()"
   ]
  },
  {
   "attachments": {},
   "cell_type": "markdown",
   "metadata": {},
   "source": [
    "## Language Models (5 Points)"
   ]
  },
  {
   "attachments": {},
   "cell_type": "markdown",
   "metadata": {},
   "source": [
    "#### Helpful functions for preprocessing the data"
   ]
  },
  {
   "cell_type": "code",
   "execution_count": 2,
   "metadata": {},
   "outputs": [],
   "source": [
    "def load_corpus(path):\n",
    "    with open(file=\"wikitext-2/train.txt\", mode=\"r\", encoding=\"utf8\") as f:\n",
    "        corpus = f.read()\n",
    "    return corpus\n",
    "\n",
    "def preprocess_corpus(corpus):\n",
    "    remove_escape_char = re.sub(\"\\n\", \"\", corpus)\n",
    "    remove_html_char = re.sub(r\"<.*?>\", \"\", remove_escape_char)\n",
    "    remove_special_char = re.sub(r\"[^\\w\\s]\", \"\", remove_html_char)\n",
    "\n",
    "    out = remove_special_char.lower()\n",
    "\n",
    "    return out\n",
    "    "
   ]
  },
  {
   "cell_type": "code",
   "execution_count": 3,
   "metadata": {},
   "outputs": [],
   "source": [
    "with open(file=\"wikitext-2/train.txt\", mode=\"r\") as f:\n",
    "    corpus = f.read()"
   ]
  },
  {
   "cell_type": "code",
   "execution_count": 4,
   "metadata": {},
   "outputs": [
    {
     "data": {
      "text/plain": [
       "' \\n = Valkyria Chronicles III = \\n \\n Senjō no Valkyria 3 : <unk> Chronicles ( Japanese : 戦場のヴァルキュリア3 ,'"
      ]
     },
     "execution_count": 4,
     "metadata": {},
     "output_type": "execute_result"
    }
   ],
   "source": [
    "corpus[:100]"
   ]
  },
  {
   "cell_type": "code",
   "execution_count": 5,
   "metadata": {},
   "outputs": [],
   "source": [
    "sents = nltk.sent_tokenize(preprocess_corpus(corpus))"
   ]
  },
  {
   "cell_type": "code",
   "execution_count": 6,
   "metadata": {},
   "outputs": [],
   "source": [
    "preprocessed_corpus = preprocess_corpus(corpus)\n",
    "tokens = nltk.tokenize.word_tokenize(preprocessed_corpus)\n",
    "stopwords_english = set(stopwords.words(\"english\"))\n",
    "preprocessed_corpus_final = [w for w in tokens if w not in stopwords_english]"
   ]
  },
  {
   "cell_type": "code",
   "execution_count": 7,
   "metadata": {},
   "outputs": [
    {
     "name": "stdout",
     "output_type": "stream",
     "text": [
      "{'which', 'himself', \"you're\", \"she's\", 'her', 'why', 'a', 'wasn', 'those', 'just', \"you've\", 'can', 'had', 'they', \"mightn't\", 'you', 'he', 'after', 't', 'i', 'wouldn', 'shan', 'other', 'be', \"doesn't\", 'over', 'so', \"haven't\", \"wouldn't\", \"shan't\", 'more', 'having', 'some', 'whom', 'will', 'o', \"it's\", 'to', 'hasn', 'very', 'who', \"isn't\", 'further', 'about', 'any', 'ain', 'if', 'no', 'now', 'didn', \"didn't\", \"mustn't\", 'ourselves', 'for', \"you'd\", 'its', 'them', 'while', \"that'll\", 'these', 'few', 'same', 'itself', 'won', 've', 'y', 'yourselves', 'has', 'him', 'each', 'have', 'was', 'above', \"hadn't\", 'your', 'did', 'on', 'is', 'both', \"shouldn't\", 'from', 'does', 'do', 'our', \"don't\", 'not', \"couldn't\", 'how', 'into', 'too', 'by', 'am', 'up', 'll', 'of', 'it', 'theirs', 'when', 'should', \"wasn't\", 'and', 'until', \"weren't\", 'off', \"aren't\", 'most', 'under', 'only', 'been', 'an', 'what', 'yourself', 'myself', 'his', \"won't\", 'then', 'doesn', 'ours', 'at', 'doing', 'all', 'but', 'hers', 'that', 'where', 'needn', 'as', 'with', 'than', \"hasn't\", 'yours', \"you'll\", 'in', 'because', 'during', 'such', 'm', 'she', 'weren', 'through', 'my', 'mustn', 'down', 'themselves', 'against', 'are', 'or', 'don', 'ma', 'we', 're', 'aren', 'were', 'the', 'out', 'mightn', 'hadn', 'below', 'again', 'herself', 'me', 'couldn', 'd', 'haven', \"needn't\", 'this', 'their', 'own', 'before', 's', 'between', 'shouldn', 'isn', 'being', 'there', \"should've\", 'nor', 'here', 'once'}\n"
     ]
    }
   ],
   "source": [
    "print(stopwords_english)"
   ]
  },
  {
   "cell_type": "code",
   "execution_count": 8,
   "metadata": {},
   "outputs": [
    {
     "data": {
      "text/plain": [
       "['valkyria',\n",
       " 'chronicles',\n",
       " 'iii',\n",
       " 'senjō',\n",
       " 'no',\n",
       " 'valkyria',\n",
       " '3',\n",
       " 'chronicles',\n",
       " 'japanese',\n",
       " '戦場のヴァルキュリア3',\n",
       " 'lit',\n",
       " 'valkyria',\n",
       " 'of',\n",
       " 'the',\n",
       " 'battlefield',\n",
       " '3',\n",
       " 'commonly',\n",
       " 'referred',\n",
       " 'to',\n",
       " 'as']"
      ]
     },
     "execution_count": 8,
     "metadata": {},
     "output_type": "execute_result"
    }
   ],
   "source": [
    "tokens[:20]"
   ]
  },
  {
   "cell_type": "code",
   "execution_count": 9,
   "metadata": {},
   "outputs": [
    {
     "data": {
      "text/plain": [
       "['valkyria',\n",
       " 'chronicles',\n",
       " 'iii',\n",
       " 'senjō',\n",
       " 'valkyria',\n",
       " '3',\n",
       " 'chronicles',\n",
       " 'japanese',\n",
       " '戦場のヴァルキュリア3',\n",
       " 'lit',\n",
       " 'valkyria',\n",
       " 'battlefield',\n",
       " '3',\n",
       " 'commonly',\n",
       " 'referred',\n",
       " 'valkyria',\n",
       " 'chronicles',\n",
       " 'iii',\n",
       " 'outside',\n",
       " 'japan']"
      ]
     },
     "execution_count": 9,
     "metadata": {},
     "output_type": "execute_result"
    }
   ],
   "source": [
    "preprocessed_corpus_final[:20]"
   ]
  },
  {
   "cell_type": "code",
   "execution_count": 10,
   "metadata": {},
   "outputs": [
    {
     "data": {
      "text/plain": [
       "list"
      ]
     },
     "execution_count": 10,
     "metadata": {},
     "output_type": "execute_result"
    }
   ],
   "source": [
    "type(preprocessed_corpus_final)"
   ]
  },
  {
   "cell_type": "code",
   "execution_count": 11,
   "metadata": {},
   "outputs": [],
   "source": [
    "def count_words(lst_tokens: list) -> tuple[list, list]: \n",
    "    dict_tokens = nltk.defaultdict(int)\n",
    "    for token in lst_tokens:\n",
    "        dict_tokens[token] += 1\n",
    "    \n",
    "    sorted_counts = sorted(dict_tokens.items(), key=lambda x: x[1], reverse=True) \n",
    "    return dict_tokens, sorted_counts"
   ]
  },
  {
   "cell_type": "code",
   "execution_count": 12,
   "metadata": {},
   "outputs": [],
   "source": [
    "counts_sorted = count_words(preprocessed_corpus_final)[1]"
   ]
  },
  {
   "cell_type": "code",
   "execution_count": 13,
   "metadata": {},
   "outputs": [],
   "source": [
    "def get_top_n(lst_tuples: list, n=None) -> list:\n",
    "    out = []\n",
    "    print(f\"Most {n} frequent words\")\n",
    "    if n is None:\n",
    "        return lst_tuples\n",
    "    else:\n",
    "        for i in range(n):\n",
    "            out.append(lst_tuples[i])\n",
    "            print(f\"{lst_tuples[i][0]} --> {lst_tuples[i][1]}\")\n",
    "    return out"
   ]
  },
  {
   "cell_type": "code",
   "execution_count": 14,
   "metadata": {},
   "outputs": [
    {
     "data": {
      "text/plain": [
       "[('first', 4245),\n",
       " ('one', 3910),\n",
       " ('also', 3842),\n",
       " ('two', 3565),\n",
       " ('new', 2767),\n",
       " ('time', 2607),\n",
       " ('would', 2332),\n",
       " ('1', 2248),\n",
       " ('game', 2077),\n",
       " ('2', 1979)]"
      ]
     },
     "execution_count": 14,
     "metadata": {},
     "output_type": "execute_result"
    }
   ],
   "source": [
    "counts_sorted[:10]"
   ]
  },
  {
   "cell_type": "code",
   "execution_count": 15,
   "metadata": {},
   "outputs": [
    {
     "name": "stdout",
     "output_type": "stream",
     "text": [
      "Most 3 frequent words\n",
      "first --> 4245\n",
      "one --> 3910\n",
      "also --> 3842\n"
     ]
    },
    {
     "data": {
      "text/plain": [
       "[('first', 4245), ('one', 3910), ('also', 3842)]"
      ]
     },
     "execution_count": 15,
     "metadata": {},
     "output_type": "execute_result"
    }
   ],
   "source": [
    "get_top_n(counts_sorted, n=3)"
   ]
  },
  {
   "cell_type": "code",
   "execution_count": 53,
   "metadata": {},
   "outputs": [
    {
     "name": "stdout",
     "output_type": "stream",
     "text": [
      "counts (top 10): [4245, 3910, 3842, 3565, 2767, 2607, 2332, 2248, 2077, 1979]\n",
      "keys (top 10): ['first', 'one', 'also', 'two', 'new', 'time', 'would', '1', 'game', '2']\n",
      "rank (top 10): [1, 2, 3, 4, 5, 6, 7, 8, 9, 10]\n"
     ]
    }
   ],
   "source": [
    "c = [v for (k,v) in counts_sorted]\n",
    "keys = [k for (k,v) in counts_sorted]\n",
    "r = [idx+1 for idx, elem in enumerate(keys)]\n",
    "print(f\"counts (top 10): {c[:10]}\")\n",
    "print(f\"keys (top 10): {keys[:10]}\")\n",
    "print(f\"rank (top 10): {r[:10]}\")\n",
    "\n",
    "def zipf_coefficient(r: list, c: list):\n",
    "    log_r = [math.log(rank) for rank in r]\n",
    "    log_c = [math.log(count) for count in c]\n",
    "\n",
    "    # compute euclidean norm\n",
    "    power2 = [rank**2 for rank in log_r]\n",
    "    euclidean_norm = 0\n",
    "    for elem in power2:\n",
    "        euclidean_norm += elem\n",
    "    #euclidean_norm = math.sqrt(sum_elements)\n",
    "\n",
    "    multiply_r_c = [(elem * log_c[idx])/euclidean_norm for idx, elem in enumerate(log_r)]\n",
    "    scalar_product = np.dot(np.array(log_c), np.array(log_r))\n",
    "    #s_hat = [math.exp(elem) for elem in multiply_r_c]\n",
    "    s_hat = math.exp(scalar_product/euclidean_norm)\n",
    "    #print(f\"scalar == {scalar_product}\")\n",
    "    #print(f\"quotient == {scalar_product/euclidean_norm}\")\n",
    "    return s_hat, euclidean_norm\n",
    "\n",
    "def estimate_k(count_word, s_value, rank_word) -> float:\n",
    "    k = count_word / (rank_word**(-s_value))\n",
    "    return k\n",
    "\n"
   ]
  },
  {
   "cell_type": "code",
   "execution_count": 28,
   "metadata": {},
   "outputs": [
    {
     "name": "stdout",
     "output_type": "stream",
     "text": [
      "Estimated zipf coefficient s == 1.2760031104213203\n"
     ]
    }
   ],
   "source": [
    "s, norms = zipf_coefficient(r, c)\n",
    "print(f\"Estimated zipf coefficient s == {s}\")"
   ]
  },
  {
   "cell_type": "code",
   "execution_count": 54,
   "metadata": {},
   "outputs": [
    {
     "name": "stdout",
     "output_type": "stream",
     "text": [
      "Constant of Proportionality K == 4245.0\n"
     ]
    }
   ],
   "source": [
    "k = estimate_k(count_word=c[0], s_value=s, rank_word=r[0])\n",
    "print(f\"Constant of Proportionality K == {k}\")"
   ]
  },
  {
   "cell_type": "code",
   "execution_count": 56,
   "metadata": {},
   "outputs": [],
   "source": [
    "estimations = [k*(rank**(-s)) for rank in r]"
   ]
  },
  {
   "cell_type": "code",
   "execution_count": 57,
   "metadata": {},
   "outputs": [
    {
     "data": {
      "text/plain": [
       "[4245.0,\n",
       " 1752.9215645585625,\n",
       " 1044.8873935851148,\n",
       " 723.8478236736016,\n",
       " 544.489858279117,\n",
       " 431.47365011795944,\n",
       " 354.4295855614434,\n",
       " 298.90423076000945,\n",
       " 257.1942674377137,\n",
       " 224.8405216162308]"
      ]
     },
     "execution_count": 57,
     "metadata": {},
     "output_type": "execute_result"
    }
   ],
   "source": [
    "estimations[:10]"
   ]
  },
  {
   "cell_type": "code",
   "execution_count": 69,
   "metadata": {},
   "outputs": [],
   "source": [
    "\"\"\"\n",
    "ranks: list of the ranks of the words [1, 2, .... N] \n",
    "observed: list of real counts sorted in descending order\n",
    "expected: list of word frequencies expected from Zipf\\'s law using the given formula\n",
    "\"\"\"\n",
    "\n",
    "def plot_loglog(ranks, observed, expected):\n",
    "    plt.loglog(ranks, observed,  'r-', label='Observed')\n",
    "    plt.loglog(ranks, expected, 'b-', label='Expected by Zipf\\'s Law')\n",
    "    plt.legend()\n",
    "    plt.xlabel('log(Rank)')\n",
    "    plt.ylabel('log(Frequency)')\n",
    "    plt.title('LogLog plot')\n",
    "    plt.show()"
   ]
  },
  {
   "cell_type": "code",
   "execution_count": 70,
   "metadata": {},
   "outputs": [
    {
     "data": {
      "image/png": "[encoded data removed]",
      "text/plain": [
       "<Figure size 640x480 with 1 Axes>"
      ]
     },
     "metadata": {},
     "output_type": "display_data"
    }
   ],
   "source": [
    "plot_loglog(ranks=r, observed=c, expected=estimations)"
   ]
  },
  {
   "cell_type": "code",
   "execution_count": 71,
   "metadata": {},
   "outputs": [
    {
     "data": {
      "image/png": "[encoded data removed]",
      "text/plain": [
       "<Figure size 640x480 with 1 Axes>"
      ]
     },
     "metadata": {},
     "output_type": "display_data"
    }
   ],
   "source": [
    "plot_loglog(ranks=r[:3], observed=c[:3], expected=estimations[:3])"
   ]
  }
 ],
 "metadata": {
  "kernelspec": {
   "display_name": "DLAM",
   "language": "python",
   "name": "python3"
  },
  "language_info": {
   "codemirror_mode": {
    "name": "ipython",
    "version": 3
   },
   "file_extension": ".py",
   "mimetype": "text/x-python",
   "name": "python",
   "nbconvert_exporter": "python",
   "pygments_lexer": "ipython3",
   "version": "3.10.11"
  },
  "orig_nbformat": 4
 },
 "nbformat": 4,
 "nbformat_minor": 2
}
